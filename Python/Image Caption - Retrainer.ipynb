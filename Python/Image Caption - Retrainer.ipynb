{
 "cells": [
  {
   "cell_type": "markdown",
   "metadata": {},
   "source": [
    "# Image Caption Retrainer"
   ]
  },
  {
   "cell_type": "code",
   "execution_count": 6,
   "metadata": {},
   "outputs": [],
   "source": [
    "import pandas as pd\n",
    "import numpy as np\n",
    "from keras.models import load_model\n",
    "from keras.callbacks import ModelCheckpoint"
   ]
  },
  {
   "cell_type": "markdown",
   "metadata": {},
   "source": [
    "Load model into memory"
   ]
  },
  {
   "cell_type": "code",
   "execution_count": 2,
   "metadata": {},
   "outputs": [
    {
     "name": "stderr",
     "output_type": "stream",
     "text": [
      "/home/ubuntu/.local/lib/python2.7/site-packages/keras/engine/topology.py:1242: UserWarning: The `Merge` layer is deprecated and will be removed after 08/2017. Use instead layers from `keras.layers.merge`, e.g. `add`, `concatenate`, etc.\n",
      "  return cls(**config)\n"
     ]
    }
   ],
   "source": [
    "model = load_model('Models/WholeModel.h5')"
   ]
  },
  {
   "cell_type": "code",
   "execution_count": 3,
   "metadata": {
    "collapsed": true
   },
   "outputs": [],
   "source": [
    "from picturedata.generator import DataGenerator"
   ]
  },
  {
   "cell_type": "code",
   "execution_count": 4,
   "metadata": {},
   "outputs": [
    {
     "name": "stdout",
     "output_type": "stream",
     "text": [
      "Total samples : 383454\n",
      "Vocabulary size: 8256\n",
      "Maximum caption length: 40\n",
      "Image count: 30000\n"
     ]
    }
   ],
   "source": [
    "generator = DataGenerator()"
   ]
  },
  {
   "cell_type": "code",
   "execution_count": null,
   "metadata": {},
   "outputs": [
    {
     "name": "stdout",
     "output_type": "stream",
     "text": [
      "Generating data...Epoch 1/10\n",
      "\n",
      "11981/11982 [============================>.] - ETA: 0s - loss: 5.1349 - acc: 0.3872Epoch 00000: loss improved from inf to 5.13461, saving model to weights-improvement-00.hdf5\n",
      "11982/11982 [==============================] - 2400s - loss: 5.1346 - acc: 0.3872  \n",
      "Epoch 2/10\n",
      "11981/11982 [============================>.] - ETA: 0s - loss: 5.1961 - acc: 0.3857Epoch 00001: loss did not improve\n",
      "11982/11982 [==============================] - 2398s - loss: 5.1962 - acc: 0.3857  \n",
      "Epoch 3/10\n",
      "11981/11982 [============================>.] - ETA: 0s - loss: 5.2507 - acc: 0.3846Epoch 00002: loss did not improve\n",
      "11982/11982 [==============================] - 2397s - loss: 5.2507 - acc: 0.3846  \n",
      "Epoch 4/10\n",
      "11981/11982 [============================>.] - ETA: 0s - loss: 5.3569 - acc: 0.3771Epoch 00003: loss did not improve\n",
      "11982/11982 [==============================] - 2397s - loss: 5.3569 - acc: 0.3771  \n",
      "Epoch 5/10\n",
      "11981/11982 [============================>.] - ETA: 0s - loss: 5.3680 - acc: 0.3809Epoch 00004: loss did not improve\n",
      "11982/11982 [==============================] - 2398s - loss: 5.3679 - acc: 0.3809  \n",
      "Epoch 6/10\n",
      "11981/11982 [============================>.] - ETA: 0s - loss: 5.5005 - acc: 0.3775- ETA: 3s - loss: 5.5003Epoch 00005: loss did not improve\n",
      "11982/11982 [==============================] - 2398s - loss: 5.5004 - acc: 0.3775  \n",
      "Epoch 7/10\n",
      "11981/11982 [============================>.] - ETA: 0s - loss: 5.4964 - acc: 0.3768  ETA: 12Epoch 00006: loss did not improve\n",
      "11982/11982 [==============================] - 2400s - loss: 5.4963 - acc: 0.3768  \n",
      "Epoch 8/10\n",
      "11981/11982 [============================>.] - ETA: 0s - loss: 5.4350 - acc: 0.3805  ETA: 1 - ETA: 4s - loss:Epoch 00007: loss did not improve\n",
      "11982/11982 [==============================] - 2404s - loss: 5.4350 - acc: 0.3805  \n",
      "Epoch 9/10\n",
      "11981/11982 [============================>.] - ETA: 0s - loss: 6.1571 - acc: 0.3652Epoch 00008: loss did not improve\n",
      "11982/11982 [==============================] - 2404s - loss: 6.1573 - acc: 0.3652  \n",
      "Epoch 10/10\n",
      "11981/11982 [============================>.] - ETA: 0s - loss: 5.8086 - acc: 0.3721Epoch 00009: loss did not improve\n",
      "11982/11982 [==============================] - 2404s - loss: 5.8086 - acc: 0.3721  \n"
     ]
    }
   ],
   "source": [
    "file_name = 'weights-improvement-{epoch:02d}.hdf5'\n",
    "checkpoint = ModelCheckpoint(file_name, monitor='loss', verbose=1, save_best_only=True, mode='min')\n",
    "callbacks_list = [checkpoint]\n",
    "model.fit_generator(generator.generate(batch_size=32), steps_per_epoch=generator.total_samples/32, epochs=10, verbose=1, callbacks=callbacks_list)\n",
    "try:\n",
    "    model.save('Models/WholeModel.h5', overwrite=True)\n",
    "    model.save_weights('Models/Weights.h5',overwrite=True)\n",
    "except:\n",
    "    print \"Error in saving model.\""
   ]
  },
  {
   "cell_type": "code",
   "execution_count": null,
   "metadata": {
    "collapsed": true
   },
   "outputs": [],
   "source": []
  }
 ],
 "metadata": {
  "kernelspec": {
   "display_name": "Python 2",
   "language": "python",
   "name": "python2"
  },
  "language_info": {
   "codemirror_mode": {
    "name": "ipython",
    "version": 2
   },
   "file_extension": ".py",
   "mimetype": "text/x-python",
   "name": "python",
   "nbconvert_exporter": "python",
   "pygments_lexer": "ipython2",
   "version": "2.7.12"
  }
 },
 "nbformat": 4,
 "nbformat_minor": 2
}
