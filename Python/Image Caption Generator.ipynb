{
 "cells": [
  {
   "cell_type": "markdown",
   "metadata": {},
   "source": [
    "## Image Caption Generator"
   ]
  },
  {
   "cell_type": "code",
   "execution_count": 1,
   "metadata": {},
   "outputs": [
    {
     "name": "stderr",
     "output_type": "stream",
     "text": [
      "Using TensorFlow backend.\n"
     ]
    }
   ],
   "source": [
    "from pycocotools.coco import COCO\n",
    "import pandas as pd\n",
    "import numpy as np\n",
    "import cv2\n",
    "from keras.preprocessing import image, sequence"
   ]
  },
  {
   "cell_type": "code",
   "execution_count": 3,
   "metadata": {},
   "outputs": [
    {
     "name": "stdout",
     "output_type": "stream",
     "text": [
      "loading annotations into memory...\n",
      "Done (t=1.93s)\n",
      "creating index...\n",
      "index created!\n",
      "loading annotations into memory...\n",
      "Done (t=0.93s)\n",
      "creating index...\n",
      "index created!\n"
     ]
    }
   ],
   "source": [
    "annFile_train = \"annotations/captions_train2014.json\"\n",
    "annFile_val = \"annotations/captions_val2014.json\"\n",
    "\n",
    "coco_train = COCO(annFile_train)\n",
    "coco_val = COCO(annFile_val)"
   ]
  },
  {
   "cell_type": "code",
   "execution_count": 4,
   "metadata": {
    "collapsed": true
   },
   "outputs": [],
   "source": [
    "imgIds_train = coco_train.getImgIds()\n",
    "imgIds_val = coco_val.getImgIds()\n",
    "\n",
    "annIds_train = coco_train.getAnnIds(imgIds_train)\n",
    "annIds_val = coco_val.getAnnIds(imgIds_val)\n",
    "anns_train = coco_train.loadAnns(annIds_train)\n",
    "anns_val = coco_val.loadAnns(annIds_val)\n",
    "\n",
    "imgs_train = coco_train.loadImgs(imgIds_train)\n",
    "imgs_val = coco_val.loadImgs(imgIds_val)"
   ]
  },
  {
   "cell_type": "code",
   "execution_count": 5,
   "metadata": {
    "collapsed": true
   },
   "outputs": [],
   "source": [
    "imgs_train_df = pd.DataFrame(imgs_train)\n",
    "imgs_val_df = pd.DataFrame(imgs_val)\n",
    "\n",
    "anns_train_df = pd.DataFrame(anns_train)\n",
    "anns_val_df = pd.DataFrame(anns_val)"
   ]
  },
  {
   "cell_type": "code",
   "execution_count": 5,
   "metadata": {},
   "outputs": [
    {
     "data": {
      "text/html": [
       "<div>\n",
       "<table border=\"1\" class=\"dataframe\">\n",
       "  <thead>\n",
       "    <tr style=\"text-align: right;\">\n",
       "      <th></th>\n",
       "      <th>coco_url</th>\n",
       "      <th>date_captured</th>\n",
       "      <th>file_name</th>\n",
       "      <th>flickr_url</th>\n",
       "      <th>height</th>\n",
       "      <th>id</th>\n",
       "      <th>license</th>\n",
       "      <th>width</th>\n",
       "    </tr>\n",
       "  </thead>\n",
       "  <tbody>\n",
       "    <tr>\n",
       "      <th>0</th>\n",
       "      <td>http://mscoco.org/images/262145</td>\n",
       "      <td>2013-11-20 02:07:55</td>\n",
       "      <td>COCO_train2014_000000262145.jpg</td>\n",
       "      <td>http://farm8.staticflickr.com/7187/6967031859_...</td>\n",
       "      <td>427</td>\n",
       "      <td>262145</td>\n",
       "      <td>2</td>\n",
       "      <td>640</td>\n",
       "    </tr>\n",
       "    <tr>\n",
       "      <th>1</th>\n",
       "      <td>http://mscoco.org/images/131074</td>\n",
       "      <td>2013-11-21 01:03:06</td>\n",
       "      <td>COCO_train2014_000000131074.jpg</td>\n",
       "      <td>http://farm9.staticflickr.com/8308/7908210548_...</td>\n",
       "      <td>428</td>\n",
       "      <td>131074</td>\n",
       "      <td>1</td>\n",
       "      <td>640</td>\n",
       "    </tr>\n",
       "    <tr>\n",
       "      <th>2</th>\n",
       "      <td>http://mscoco.org/images/131075</td>\n",
       "      <td>2013-11-24 01:06:02</td>\n",
       "      <td>COCO_train2014_000000131075.jpg</td>\n",
       "      <td>http://farm8.staticflickr.com/7252/7104000401_...</td>\n",
       "      <td>640</td>\n",
       "      <td>131075</td>\n",
       "      <td>5</td>\n",
       "      <td>478</td>\n",
       "    </tr>\n",
       "    <tr>\n",
       "      <th>3</th>\n",
       "      <td>http://mscoco.org/images/393221</td>\n",
       "      <td>2013-11-16 12:47:32</td>\n",
       "      <td>COCO_train2014_000000393221.jpg</td>\n",
       "      <td>http://farm6.staticflickr.com/5340/8991584979_...</td>\n",
       "      <td>640</td>\n",
       "      <td>393221</td>\n",
       "      <td>3</td>\n",
       "      <td>427</td>\n",
       "    </tr>\n",
       "    <tr>\n",
       "      <th>4</th>\n",
       "      <td>http://mscoco.org/images/393223</td>\n",
       "      <td>2013-11-21 20:08:57</td>\n",
       "      <td>COCO_train2014_000000393223.jpg</td>\n",
       "      <td>http://farm1.staticflickr.com/28/45521803_c5cb...</td>\n",
       "      <td>480</td>\n",
       "      <td>393223</td>\n",
       "      <td>3</td>\n",
       "      <td>640</td>\n",
       "    </tr>\n",
       "  </tbody>\n",
       "</table>\n",
       "</div>"
      ],
      "text/plain": [
       "                          coco_url        date_captured  \\\n",
       "0  http://mscoco.org/images/262145  2013-11-20 02:07:55   \n",
       "1  http://mscoco.org/images/131074  2013-11-21 01:03:06   \n",
       "2  http://mscoco.org/images/131075  2013-11-24 01:06:02   \n",
       "3  http://mscoco.org/images/393221  2013-11-16 12:47:32   \n",
       "4  http://mscoco.org/images/393223  2013-11-21 20:08:57   \n",
       "\n",
       "                         file_name  \\\n",
       "0  COCO_train2014_000000262145.jpg   \n",
       "1  COCO_train2014_000000131074.jpg   \n",
       "2  COCO_train2014_000000131075.jpg   \n",
       "3  COCO_train2014_000000393221.jpg   \n",
       "4  COCO_train2014_000000393223.jpg   \n",
       "\n",
       "                                          flickr_url  height      id  license  \\\n",
       "0  http://farm8.staticflickr.com/7187/6967031859_...     427  262145        2   \n",
       "1  http://farm9.staticflickr.com/8308/7908210548_...     428  131074        1   \n",
       "2  http://farm8.staticflickr.com/7252/7104000401_...     640  131075        5   \n",
       "3  http://farm6.staticflickr.com/5340/8991584979_...     640  393221        3   \n",
       "4  http://farm1.staticflickr.com/28/45521803_c5cb...     480  393223        3   \n",
       "\n",
       "   width  \n",
       "0    640  \n",
       "1    640  \n",
       "2    478  \n",
       "3    427  \n",
       "4    640  "
      ]
     },
     "execution_count": 5,
     "metadata": {},
     "output_type": "execute_result"
    }
   ],
   "source": [
    "imgs_train_df.head()"
   ]
  },
  {
   "cell_type": "code",
   "execution_count": 6,
   "metadata": {},
   "outputs": [
    {
     "data": {
      "text/html": [
       "<div>\n",
       "<table border=\"1\" class=\"dataframe\">\n",
       "  <thead>\n",
       "    <tr style=\"text-align: right;\">\n",
       "      <th></th>\n",
       "      <th>coco_url</th>\n",
       "      <th>date_captured</th>\n",
       "      <th>file_name</th>\n",
       "      <th>flickr_url</th>\n",
       "      <th>height</th>\n",
       "      <th>id</th>\n",
       "      <th>license</th>\n",
       "      <th>width</th>\n",
       "    </tr>\n",
       "  </thead>\n",
       "  <tbody>\n",
       "    <tr>\n",
       "      <th>0</th>\n",
       "      <td>http://mscoco.org/images/262148</td>\n",
       "      <td>2013-11-20 05:50:03</td>\n",
       "      <td>COCO_val2014_000000262148.jpg</td>\n",
       "      <td>http://farm5.staticflickr.com/4028/4549977479_...</td>\n",
       "      <td>512</td>\n",
       "      <td>262148</td>\n",
       "      <td>1</td>\n",
       "      <td>640</td>\n",
       "    </tr>\n",
       "    <tr>\n",
       "      <th>1</th>\n",
       "      <td>http://mscoco.org/images/393225</td>\n",
       "      <td>2013-11-20 03:17:27</td>\n",
       "      <td>COCO_val2014_000000393225.jpg</td>\n",
       "      <td>http://farm9.staticflickr.com/8052/8445121630_...</td>\n",
       "      <td>428</td>\n",
       "      <td>393225</td>\n",
       "      <td>3</td>\n",
       "      <td>640</td>\n",
       "    </tr>\n",
       "    <tr>\n",
       "      <th>2</th>\n",
       "      <td>http://mscoco.org/images/393226</td>\n",
       "      <td>2013-11-17 20:36:07</td>\n",
       "      <td>COCO_val2014_000000393226.jpg</td>\n",
       "      <td>http://farm9.staticflickr.com/8003/7321339838_...</td>\n",
       "      <td>480</td>\n",
       "      <td>393226</td>\n",
       "      <td>4</td>\n",
       "      <td>640</td>\n",
       "    </tr>\n",
       "    <tr>\n",
       "      <th>3</th>\n",
       "      <td>http://mscoco.org/images/109229</td>\n",
       "      <td>2013-11-18 17:27:34</td>\n",
       "      <td>COCO_val2014_000000109229.jpg</td>\n",
       "      <td>http://farm3.staticflickr.com/2342/1794334693_...</td>\n",
       "      <td>640</td>\n",
       "      <td>109229</td>\n",
       "      <td>1</td>\n",
       "      <td>514</td>\n",
       "    </tr>\n",
       "    <tr>\n",
       "      <th>4</th>\n",
       "      <td>http://mscoco.org/images/131089</td>\n",
       "      <td>2013-11-22 22:23:05</td>\n",
       "      <td>COCO_val2014_000000131089.jpg</td>\n",
       "      <td>http://farm5.staticflickr.com/4117/4866736626_...</td>\n",
       "      <td>427</td>\n",
       "      <td>131089</td>\n",
       "      <td>1</td>\n",
       "      <td>640</td>\n",
       "    </tr>\n",
       "  </tbody>\n",
       "</table>\n",
       "</div>"
      ],
      "text/plain": [
       "                          coco_url        date_captured  \\\n",
       "0  http://mscoco.org/images/262148  2013-11-20 05:50:03   \n",
       "1  http://mscoco.org/images/393225  2013-11-20 03:17:27   \n",
       "2  http://mscoco.org/images/393226  2013-11-17 20:36:07   \n",
       "3  http://mscoco.org/images/109229  2013-11-18 17:27:34   \n",
       "4  http://mscoco.org/images/131089  2013-11-22 22:23:05   \n",
       "\n",
       "                       file_name  \\\n",
       "0  COCO_val2014_000000262148.jpg   \n",
       "1  COCO_val2014_000000393225.jpg   \n",
       "2  COCO_val2014_000000393226.jpg   \n",
       "3  COCO_val2014_000000109229.jpg   \n",
       "4  COCO_val2014_000000131089.jpg   \n",
       "\n",
       "                                          flickr_url  height      id  license  \\\n",
       "0  http://farm5.staticflickr.com/4028/4549977479_...     512  262148        1   \n",
       "1  http://farm9.staticflickr.com/8052/8445121630_...     428  393225        3   \n",
       "2  http://farm9.staticflickr.com/8003/7321339838_...     480  393226        4   \n",
       "3  http://farm3.staticflickr.com/2342/1794334693_...     640  109229        1   \n",
       "4  http://farm5.staticflickr.com/4117/4866736626_...     427  131089        1   \n",
       "\n",
       "   width  \n",
       "0    640  \n",
       "1    640  \n",
       "2    640  \n",
       "3    514  \n",
       "4    640  "
      ]
     },
     "execution_count": 6,
     "metadata": {},
     "output_type": "execute_result"
    }
   ],
   "source": [
    "imgs_val_df.head()"
   ]
  },
  {
   "cell_type": "code",
   "execution_count": 7,
   "metadata": {},
   "outputs": [
    {
     "data": {
      "text/html": [
       "<div>\n",
       "<table border=\"1\" class=\"dataframe\">\n",
       "  <thead>\n",
       "    <tr style=\"text-align: right;\">\n",
       "      <th></th>\n",
       "      <th>caption</th>\n",
       "      <th>id</th>\n",
       "      <th>image_id</th>\n",
       "    </tr>\n",
       "  </thead>\n",
       "  <tbody>\n",
       "    <tr>\n",
       "      <th>0</th>\n",
       "      <td>People shopping in an open market for vegetables.</td>\n",
       "      <td>694</td>\n",
       "      <td>262145</td>\n",
       "    </tr>\n",
       "    <tr>\n",
       "      <th>1</th>\n",
       "      <td>An open market full of people and piles of veg...</td>\n",
       "      <td>1054</td>\n",
       "      <td>262145</td>\n",
       "    </tr>\n",
       "    <tr>\n",
       "      <th>2</th>\n",
       "      <td>People are shopping at an open air produce mar...</td>\n",
       "      <td>1456</td>\n",
       "      <td>262145</td>\n",
       "    </tr>\n",
       "    <tr>\n",
       "      <th>3</th>\n",
       "      <td>Large piles of carrots and potatoes at a crowd...</td>\n",
       "      <td>5248</td>\n",
       "      <td>262145</td>\n",
       "    </tr>\n",
       "    <tr>\n",
       "      <th>4</th>\n",
       "      <td>People shop for vegetables like carrots and po...</td>\n",
       "      <td>5254</td>\n",
       "      <td>262145</td>\n",
       "    </tr>\n",
       "  </tbody>\n",
       "</table>\n",
       "</div>"
      ],
      "text/plain": [
       "                                             caption    id  image_id\n",
       "0  People shopping in an open market for vegetables.   694    262145\n",
       "1  An open market full of people and piles of veg...  1054    262145\n",
       "2  People are shopping at an open air produce mar...  1456    262145\n",
       "3  Large piles of carrots and potatoes at a crowd...  5248    262145\n",
       "4  People shop for vegetables like carrots and po...  5254    262145"
      ]
     },
     "execution_count": 7,
     "metadata": {},
     "output_type": "execute_result"
    }
   ],
   "source": [
    "anns_train_df.head()"
   ]
  },
  {
   "cell_type": "code",
   "execution_count": 8,
   "metadata": {},
   "outputs": [
    {
     "data": {
      "text/html": [
       "<div>\n",
       "<table border=\"1\" class=\"dataframe\">\n",
       "  <thead>\n",
       "    <tr style=\"text-align: right;\">\n",
       "      <th></th>\n",
       "      <th>caption</th>\n",
       "      <th>id</th>\n",
       "      <th>image_id</th>\n",
       "    </tr>\n",
       "  </thead>\n",
       "  <tbody>\n",
       "    <tr>\n",
       "      <th>0</th>\n",
       "      <td>The skateboarder is putting on a show using th...</td>\n",
       "      <td>284571</td>\n",
       "      <td>262148</td>\n",
       "    </tr>\n",
       "    <tr>\n",
       "      <th>1</th>\n",
       "      <td>A skateboarder pulling tricks on top of a picn...</td>\n",
       "      <td>286347</td>\n",
       "      <td>262148</td>\n",
       "    </tr>\n",
       "    <tr>\n",
       "      <th>2</th>\n",
       "      <td>A man riding on a skateboard on top of a table.</td>\n",
       "      <td>286899</td>\n",
       "      <td>262148</td>\n",
       "    </tr>\n",
       "    <tr>\n",
       "      <th>3</th>\n",
       "      <td>A skate boarder doing a trick on a picnic table.</td>\n",
       "      <td>287571</td>\n",
       "      <td>262148</td>\n",
       "    </tr>\n",
       "    <tr>\n",
       "      <th>4</th>\n",
       "      <td>A person is riding a skateboard on a picnic ta...</td>\n",
       "      <td>288021</td>\n",
       "      <td>262148</td>\n",
       "    </tr>\n",
       "  </tbody>\n",
       "</table>\n",
       "</div>"
      ],
      "text/plain": [
       "                                             caption      id  image_id\n",
       "0  The skateboarder is putting on a show using th...  284571    262148\n",
       "1  A skateboarder pulling tricks on top of a picn...  286347    262148\n",
       "2    A man riding on a skateboard on top of a table.  286899    262148\n",
       "3   A skate boarder doing a trick on a picnic table.  287571    262148\n",
       "4  A person is riding a skateboard on a picnic ta...  288021    262148"
      ]
     },
     "execution_count": 8,
     "metadata": {},
     "output_type": "execute_result"
    }
   ],
   "source": [
    "anns_val_df.head()"
   ]
  },
  {
   "cell_type": "code",
   "execution_count": 6,
   "metadata": {
    "collapsed": true
   },
   "outputs": [],
   "source": [
    "img_train_new = imgs_train_df.drop(['coco_url','date_captured','flickr_url','height','width','license'], axis=1)\n",
    "img_val_new = imgs_val_df.drop(['coco_url','date_captured','flickr_url','height','width','license'], axis=1)\n",
    "\n",
    "img_train_new.rename(columns={'id': 'image_id'}, inplace=True)\n",
    "img_val_new.rename(columns={'id': 'image_id'}, inplace=True)\n",
    "\n",
    "anns_train_df['caption'] = anns_train_df['caption'].apply(lambda x: '<start>' + x + '<end>')\n",
    "anns_val_df['caption'] = anns_val_df['caption'].apply(lambda x: '<start>' + x + '<end>')\n",
    "\n",
    "train_df = pd.merge(anns_train_df, img_train_new, on='image_id', how='left')\n",
    "val_df = pd.merge(anns_val_df, img_val_new, on='image_id', how='left')"
   ]
  },
  {
   "cell_type": "code",
   "execution_count": 10,
   "metadata": {},
   "outputs": [
    {
     "data": {
      "text/html": [
       "<div>\n",
       "<table border=\"1\" class=\"dataframe\">\n",
       "  <thead>\n",
       "    <tr style=\"text-align: right;\">\n",
       "      <th></th>\n",
       "      <th>caption</th>\n",
       "      <th>id</th>\n",
       "      <th>image_id</th>\n",
       "      <th>file_name</th>\n",
       "    </tr>\n",
       "  </thead>\n",
       "  <tbody>\n",
       "    <tr>\n",
       "      <th>0</th>\n",
       "      <td>&lt;start&gt;People shopping in an open market for v...</td>\n",
       "      <td>694</td>\n",
       "      <td>262145</td>\n",
       "      <td>COCO_train2014_000000262145.jpg</td>\n",
       "    </tr>\n",
       "    <tr>\n",
       "      <th>1</th>\n",
       "      <td>&lt;start&gt;An open market full of people and piles...</td>\n",
       "      <td>1054</td>\n",
       "      <td>262145</td>\n",
       "      <td>COCO_train2014_000000262145.jpg</td>\n",
       "    </tr>\n",
       "    <tr>\n",
       "      <th>2</th>\n",
       "      <td>&lt;start&gt;People are shopping at an open air prod...</td>\n",
       "      <td>1456</td>\n",
       "      <td>262145</td>\n",
       "      <td>COCO_train2014_000000262145.jpg</td>\n",
       "    </tr>\n",
       "    <tr>\n",
       "      <th>3</th>\n",
       "      <td>&lt;start&gt;Large piles of carrots and potatoes at ...</td>\n",
       "      <td>5248</td>\n",
       "      <td>262145</td>\n",
       "      <td>COCO_train2014_000000262145.jpg</td>\n",
       "    </tr>\n",
       "    <tr>\n",
       "      <th>4</th>\n",
       "      <td>&lt;start&gt;People shop for vegetables like carrots...</td>\n",
       "      <td>5254</td>\n",
       "      <td>262145</td>\n",
       "      <td>COCO_train2014_000000262145.jpg</td>\n",
       "    </tr>\n",
       "  </tbody>\n",
       "</table>\n",
       "</div>"
      ],
      "text/plain": [
       "                                             caption    id  image_id  \\\n",
       "0  <start>People shopping in an open market for v...   694    262145   \n",
       "1  <start>An open market full of people and piles...  1054    262145   \n",
       "2  <start>People are shopping at an open air prod...  1456    262145   \n",
       "3  <start>Large piles of carrots and potatoes at ...  5248    262145   \n",
       "4  <start>People shop for vegetables like carrots...  5254    262145   \n",
       "\n",
       "                         file_name  \n",
       "0  COCO_train2014_000000262145.jpg  \n",
       "1  COCO_train2014_000000262145.jpg  \n",
       "2  COCO_train2014_000000262145.jpg  \n",
       "3  COCO_train2014_000000262145.jpg  \n",
       "4  COCO_train2014_000000262145.jpg  "
      ]
     },
     "execution_count": 10,
     "metadata": {},
     "output_type": "execute_result"
    }
   ],
   "source": [
    "train_df.head()"
   ]
  },
  {
   "cell_type": "code",
   "execution_count": 11,
   "metadata": {},
   "outputs": [
    {
     "data": {
      "text/html": [
       "<div>\n",
       "<table border=\"1\" class=\"dataframe\">\n",
       "  <thead>\n",
       "    <tr style=\"text-align: right;\">\n",
       "      <th></th>\n",
       "      <th>caption</th>\n",
       "      <th>id</th>\n",
       "      <th>image_id</th>\n",
       "      <th>file_name</th>\n",
       "    </tr>\n",
       "  </thead>\n",
       "  <tbody>\n",
       "    <tr>\n",
       "      <th>0</th>\n",
       "      <td>&lt;start&gt;The skateboarder is putting on a show u...</td>\n",
       "      <td>284571</td>\n",
       "      <td>262148</td>\n",
       "      <td>COCO_val2014_000000262148.jpg</td>\n",
       "    </tr>\n",
       "    <tr>\n",
       "      <th>1</th>\n",
       "      <td>&lt;start&gt;A skateboarder pulling tricks on top of...</td>\n",
       "      <td>286347</td>\n",
       "      <td>262148</td>\n",
       "      <td>COCO_val2014_000000262148.jpg</td>\n",
       "    </tr>\n",
       "    <tr>\n",
       "      <th>2</th>\n",
       "      <td>&lt;start&gt;A man riding on a skateboard on top of ...</td>\n",
       "      <td>286899</td>\n",
       "      <td>262148</td>\n",
       "      <td>COCO_val2014_000000262148.jpg</td>\n",
       "    </tr>\n",
       "    <tr>\n",
       "      <th>3</th>\n",
       "      <td>&lt;start&gt;A skate boarder doing a trick on a picn...</td>\n",
       "      <td>287571</td>\n",
       "      <td>262148</td>\n",
       "      <td>COCO_val2014_000000262148.jpg</td>\n",
       "    </tr>\n",
       "    <tr>\n",
       "      <th>4</th>\n",
       "      <td>&lt;start&gt;A person is riding a skateboard on a pi...</td>\n",
       "      <td>288021</td>\n",
       "      <td>262148</td>\n",
       "      <td>COCO_val2014_000000262148.jpg</td>\n",
       "    </tr>\n",
       "  </tbody>\n",
       "</table>\n",
       "</div>"
      ],
      "text/plain": [
       "                                             caption      id  image_id  \\\n",
       "0  <start>The skateboarder is putting on a show u...  284571    262148   \n",
       "1  <start>A skateboarder pulling tricks on top of...  286347    262148   \n",
       "2  <start>A man riding on a skateboard on top of ...  286899    262148   \n",
       "3  <start>A skate boarder doing a trick on a picn...  287571    262148   \n",
       "4  <start>A person is riding a skateboard on a pi...  288021    262148   \n",
       "\n",
       "                       file_name  \n",
       "0  COCO_val2014_000000262148.jpg  \n",
       "1  COCO_val2014_000000262148.jpg  \n",
       "2  COCO_val2014_000000262148.jpg  \n",
       "3  COCO_val2014_000000262148.jpg  \n",
       "4  COCO_val2014_000000262148.jpg  "
      ]
     },
     "execution_count": 11,
     "metadata": {},
     "output_type": "execute_result"
    }
   ],
   "source": [
    "val_df.head()"
   ]
  },
  {
   "cell_type": "code",
   "execution_count": 7,
   "metadata": {
    "collapsed": true
   },
   "outputs": [],
   "source": [
    "train_df.drop(['id'], axis=1, inplace=True)\n",
    "val_df.drop(['id'], axis=1, inplace=True)"
   ]
  },
  {
   "cell_type": "code",
   "execution_count": 8,
   "metadata": {},
   "outputs": [
    {
     "data": {
      "text/plain": [
       "413915"
      ]
     },
     "execution_count": 8,
     "metadata": {},
     "output_type": "execute_result"
    }
   ],
   "source": [
    "train_imgs = set(train_df['file_name'])\n",
    "len(train_imgs)*5"
   ]
  },
  {
   "cell_type": "markdown",
   "metadata": {
    "collapsed": true
   },
   "source": [
    "Processing images and save array"
   ]
  },
  {
   "cell_type": "code",
   "execution_count": 8,
   "metadata": {},
   "outputs": [
    {
     "ename": "KeyboardInterrupt",
     "evalue": "",
     "output_type": "error",
     "traceback": [
      "\u001b[0;31m---------------------------------------------------------------------------\u001b[0m",
      "\u001b[0;31mKeyboardInterrupt\u001b[0m                         Traceback (most recent call last)",
      "\u001b[0;32m<ipython-input-8-c698e8042b52>\u001b[0m in \u001b[0;36m<module>\u001b[0;34m()\u001b[0m\n\u001b[1;32m      2\u001b[0m \u001b[0mimages\u001b[0m \u001b[0;34m=\u001b[0m \u001b[0;34m[\u001b[0m\u001b[0;34m]\u001b[0m\u001b[0;34m\u001b[0m\u001b[0m\n\u001b[1;32m      3\u001b[0m \u001b[0;32mfor\u001b[0m \u001b[0mimg_file\u001b[0m \u001b[0;32min\u001b[0m \u001b[0mtrain_imgs\u001b[0m\u001b[0;34m:\u001b[0m\u001b[0;34m\u001b[0m\u001b[0m\n\u001b[0;32m----> 4\u001b[0;31m     \u001b[0mimage\u001b[0m \u001b[0;34m=\u001b[0m \u001b[0mcv2\u001b[0m\u001b[0;34m.\u001b[0m\u001b[0mimread\u001b[0m\u001b[0;34m(\u001b[0m\u001b[0mimg_dir\u001b[0m \u001b[0;34m+\u001b[0m \u001b[0mimg_file\u001b[0m\u001b[0;34m)\u001b[0m\u001b[0;34m\u001b[0m\u001b[0m\n\u001b[0m\u001b[1;32m      5\u001b[0m     \u001b[0mimage\u001b[0m\u001b[0;34m.\u001b[0m\u001b[0mresize\u001b[0m\u001b[0;34m(\u001b[0m\u001b[0;34m(\u001b[0m\u001b[0;36m3\u001b[0m\u001b[0;34m,\u001b[0m\u001b[0;36m224\u001b[0m\u001b[0;34m,\u001b[0m\u001b[0;36m224\u001b[0m\u001b[0;34m)\u001b[0m\u001b[0;34m)\u001b[0m\u001b[0;34m\u001b[0m\u001b[0m\n\u001b[1;32m      6\u001b[0m     \u001b[0;32mfor\u001b[0m \u001b[0mi\u001b[0m \u001b[0;32min\u001b[0m \u001b[0mrange\u001b[0m\u001b[0;34m(\u001b[0m\u001b[0;36m0\u001b[0m\u001b[0;34m,\u001b[0m\u001b[0;36m5\u001b[0m\u001b[0;34m)\u001b[0m\u001b[0;34m:\u001b[0m\u001b[0;34m\u001b[0m\u001b[0m\n",
      "\u001b[0;31mKeyboardInterrupt\u001b[0m: "
     ]
    }
   ],
   "source": [
    "img_dir = \"images/\"\n",
    "images = []\n",
    "for img_file in train_imgs:\n",
    "    image = cv2.imread(img_dir + img_file)\n",
    "    image.resize((3,224,224))\n",
    "    for i in range(0,5):\n",
    "        images.append(image)\n",
    "    \n"
   ]
  },
  {
   "cell_type": "code",
   "execution_count": 12,
   "metadata": {},
   "outputs": [
    {
     "data": {
      "text/plain": [
       "413915"
      ]
     },
     "execution_count": 12,
     "metadata": {},
     "output_type": "execute_result"
    }
   ],
   "source": [
    "len(images)"
   ]
  },
  {
   "cell_type": "markdown",
   "metadata": {},
   "source": [
    "Creating vocabulary"
   ]
  },
  {
   "cell_type": "code",
   "execution_count": 9,
   "metadata": {
    "collapsed": true
   },
   "outputs": [],
   "source": [
    "caps = train_df['caption']\n",
    "total_samples=0\n",
    "for text in caps:\n",
    "    total_samples+=len(text.split())-1\n",
    "print \"Total samples : \"+str(total_samples)"
   ]
  },
  {
   "cell_type": "code",
   "execution_count": 10,
   "metadata": {},
   "outputs": [
    {
     "name": "stdout",
     "output_type": "stream",
     "text": [
      "Vocabulary size: 54028\n",
      "Maximum caption length: 50\n"
     ]
    }
   ],
   "source": [
    "words = [txt.split() for txt in caps]\n",
    "unique = []\n",
    "for word in words:\n",
    "    unique.extend(word)\n",
    "\n",
    "unique = list(set(unique))\n",
    "vocab_size = len(unique)\n",
    "word_index = {}\n",
    "index_word = {}\n",
    "for i, word in enumerate(unique):\n",
    "    word_index[word]=i\n",
    "    index_word[i]=word\n",
    "    \n",
    "max_len = 0\n",
    "for caption in caps:\n",
    "    if(len(caption.split()) > max_len):\n",
    "        max_len = len(caption.split())\n",
    "max_cap_len = max_len\n",
    "print \"Vocabulary size: \"+str(vocab_size)\n",
    "print \"Maximum caption length: \"+str(max_cap_len)"
   ]
  },
  {
   "cell_type": "markdown",
   "metadata": {},
   "source": [
    "Creating partial captions and next words\n",
    "\n",
    "The amount of items on array is too big, so the kernel die while executing the loop below. I will build a generator to use on model."
   ]
  },
  {
   "cell_type": "code",
   "execution_count": null,
   "metadata": {
    "collapsed": true
   },
   "outputs": [],
   "source": [
    "partial_caps = []\n",
    "next_words = []\n",
    "for text in caps:\n",
    "    for i in range(len(text.split())-1):\n",
    "        partial = [word_index[txt] for txt in text.split()[:i+1]]\n",
    "        partial_caps.append(partial)\n",
    "        next = np.zeros(vocab_size)\n",
    "        next[word_index[text.split()[i+1]]] = 1\n",
    "        next_words.append(next)\n",
    "        \n"
   ]
  },
  {
   "cell_type": "code",
   "execution_count": null,
   "metadata": {
    "collapsed": true
   },
   "outputs": [],
   "source": [
    "next_words.npasarray(next_words)\n",
    "partial_caps = sequence.pad_sequences(partial_caps, maxlen=max_cap_len, padding='post')"
   ]
  }
 ],
 "metadata": {
  "kernelspec": {
   "display_name": "Python 2",
   "language": "python",
   "name": "python2"
  },
  "language_info": {
   "codemirror_mode": {
    "name": "ipython",
    "version": 2
   },
   "file_extension": ".py",
   "mimetype": "text/x-python",
   "name": "python",
   "nbconvert_exporter": "python",
   "pygments_lexer": "ipython2",
   "version": "2.7.12"
  }
 },
 "nbformat": 4,
 "nbformat_minor": 2
}
