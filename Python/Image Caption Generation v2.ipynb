{
 "cells": [
  {
   "cell_type": "markdown",
   "metadata": {},
   "source": [
    "## Image Caption Generation v2"
   ]
  },
  {
   "cell_type": "code",
   "execution_count": 1,
   "metadata": {},
   "outputs": [
    {
     "name": "stderr",
     "output_type": "stream",
     "text": [
      "Using TensorFlow backend.\n"
     ]
    }
   ],
   "source": [
    "from pycocotools.coco import COCO\n",
    "import pandas as pd\n",
    "import numpy as np\n",
    "import cv2\n",
    "from picturedata.generator import DataGenerator\n",
    "from keras.models import Sequential\n",
    "from keras.layers import LSTM, Embedding, TimeDistributed, Dense, RepeatVector, Merge, Activation, Flatten, GRU\n",
    "from keras.callbacks import ModelCheckpoint\n",
    "from keras.applications.vgg16 import VGG16\n",
    "from keras import backend as K"
   ]
  },
  {
   "cell_type": "code",
   "execution_count": 2,
   "metadata": {},
   "outputs": [
    {
     "name": "stdout",
     "output_type": "stream",
     "text": [
      "loading annotations into memory...\n",
      "Done (t=1.72s)\n",
      "creating index...\n",
      "index created!\n",
      "loading annotations into memory...\n",
      "Done (t=1.09s)\n",
      "creating index...\n",
      "index created!\n"
     ]
    }
   ],
   "source": [
    "annFile_train = \"annotations/captions_train2014.json\"\n",
    "annFile_val = \"annotations/captions_val2014.json\"\n",
    "\n",
    "coco_train = COCO(annFile_train)\n",
    "coco_val = COCO(annFile_val)"
   ]
  },
  {
   "cell_type": "code",
   "execution_count": 3,
   "metadata": {
    "collapsed": true
   },
   "outputs": [],
   "source": [
    "imgIds_train = coco_train.getImgIds()\n",
    "imgIds_val = coco_val.getImgIds()\n",
    "\n",
    "annIds_train = coco_train.getAnnIds(imgIds_train)\n",
    "annIds_val = coco_val.getAnnIds(imgIds_val)\n",
    "anns_train = coco_train.loadAnns(annIds_train)\n",
    "anns_val = coco_val.loadAnns(annIds_val)\n",
    "\n",
    "imgs_train = coco_train.loadImgs(imgIds_train)\n",
    "imgs_val = coco_val.loadImgs(imgIds_val)"
   ]
  },
  {
   "cell_type": "code",
   "execution_count": 4,
   "metadata": {
    "collapsed": true
   },
   "outputs": [],
   "source": [
    "imgs_train_df = pd.DataFrame(imgs_train)\n",
    "imgs_val_df = pd.DataFrame(imgs_val)\n",
    "\n",
    "anns_train_df = pd.DataFrame(anns_train)\n",
    "anns_val_df = pd.DataFrame(anns_val)"
   ]
  },
  {
   "cell_type": "code",
   "execution_count": 5,
   "metadata": {
    "collapsed": true
   },
   "outputs": [],
   "source": [
    "img_train_new = imgs_train_df.drop(['coco_url','date_captured','flickr_url','height','width','license'], axis=1)\n",
    "img_val_new = imgs_val_df.drop(['coco_url','date_captured','flickr_url','height','width','license'], axis=1)\n",
    "\n",
    "img_train_new.rename(columns={'id': 'image_id'}, inplace=True)\n",
    "img_val_new.rename(columns={'id': 'image_id'}, inplace=True)\n",
    "\n",
    "anns_train_df['caption'] = anns_train_df['caption'].apply(lambda x: '<start>' + x + '<end>')\n",
    "anns_val_df['caption'] = anns_val_df['caption'].apply(lambda x: '<start>' + x + '<end>')\n",
    "\n",
    "train_df = pd.merge(anns_train_df, img_train_new, on='image_id', how='left')\n",
    "val_df = pd.merge(anns_val_df, img_val_new, on='image_id', how='left')"
   ]
  },
  {
   "cell_type": "code",
   "execution_count": 7,
   "metadata": {
    "collapsed": true
   },
   "outputs": [],
   "source": [
    "train_df.drop(['id'], axis=1, inplace=True)\n",
    "val_df.drop(['id'], axis=1, inplace=True)"
   ]
  },
  {
   "cell_type": "code",
   "execution_count": 8,
   "metadata": {},
   "outputs": [
    {
     "data": {
      "text/plain": [
       "413915"
      ]
     },
     "execution_count": 8,
     "metadata": {},
     "output_type": "execute_result"
    }
   ],
   "source": [
    "train_imgs = set(train_df['file_name'])\n",
    "len(train_imgs)*5"
   ]
  },
  {
   "cell_type": "code",
   "execution_count": 9,
   "metadata": {
    "collapsed": true
   },
   "outputs": [],
   "source": [
    "img_dir = \"images/\"\n",
    "images = []\n",
    "for img_file in train_imgs:\n",
    "    image = cv2.imread(img_dir + img_file)\n",
    "    image.resize((3,224,224))\n",
    "    for i in range(0,5):\n",
    "        images.append(image)\n"
   ]
  },
  {
   "cell_type": "code",
   "execution_count": 9,
   "metadata": {
    "collapsed": true
   },
   "outputs": [],
   "source": [
    "captions = train_df['caption']"
   ]
  },
  {
   "cell_type": "code",
   "execution_count": 10,
   "metadata": {},
   "outputs": [
    {
     "name": "stdout",
     "output_type": "stream",
     "text": [
      "Total samples : 3975778\n",
      "Vocabulary size: 54028\n",
      "Maximum caption length: 50\n"
     ]
    }
   ],
   "source": [
    "generator = DataGenerator(images, captions)"
   ]
  },
  {
   "cell_type": "code",
   "execution_count": 11,
   "metadata": {
    "collapsed": true
   },
   "outputs": [],
   "source": [
    "embedding_dim = 128"
   ]
  },
  {
   "cell_type": "code",
   "execution_count": 29,
   "metadata": {},
   "outputs": [
    {
     "name": "stderr",
     "output_type": "stream",
     "text": [
      "/usr/local/lib/python2.7/dist-packages/ipykernel_launcher.py:17: UserWarning: The `Merge` layer is deprecated and will be removed after 08/2017. Use instead layers from `keras.layers.merge`, e.g. `add`, `concatenate`, etc.\n"
     ]
    }
   ],
   "source": [
    "base_model = VGG16(weights='imagenet', include_top=False, input_shape = (224, 224, 3))\n",
    "base_model.trainable=False\n",
    "image_model = Sequential()\n",
    "image_model.add(base_model)\n",
    "image_model.add(Flatten())\n",
    "image_model.add(Dense(embedding_dim, input_dim=4096, activation='relu'))\n",
    "\n",
    "image_model.add(RepeatVector(generator.getMaxCapLen()))\n",
    "\n",
    "language_model = Sequential()\n",
    "language_model.add(Embedding(generator.getVocabSize(), 256, input_length=generator.getMaxCapLen()))\n",
    "language_model.add(LSTM(256, return_sequences=True))\n",
    "#language_model.add(GRU(128, return_sequences=True))\n",
    "language_model.add(TimeDistributed(Dense(embedding_dim)))\n",
    "\n",
    "model = Sequential()\n",
    "model.add(Merge([image_model, language_model], mode='concat'))\n",
    "model.add(LSTM(1000, return_sequences=False))\n",
    "#model.add(GRU(256, return_sequences=False))\n",
    "model.add(Dense(generator.getVocabSize()))\n",
    "model.add(Activation('softmax'))\n"
   ]
  },
  {
   "cell_type": "code",
   "execution_count": 30,
   "metadata": {
    "collapsed": true
   },
   "outputs": [],
   "source": [
    "model.compile(loss='categorical_crossentropy', optimizer='sgd', metrics=['accuracy'])"
   ]
  },
  {
   "cell_type": "code",
   "execution_count": 34,
   "metadata": {},
   "outputs": [
    {
     "name": "stdout",
     "output_type": "stream",
     "text": [
      "Generating data...Epoch 1/50\n",
      "\n",
      "49/50 [============================>.] - ETA: 1s - loss: 6.0445 - acc: 0.0931Epoch 00000: loss improved from inf to 6.07908, saving model to weights-improvement-00.hdf5\n",
      "50/50 [==============================] - 94s - loss: 6.0786 - acc: 0.0931    \n",
      "Epoch 2/50\n",
      "49/50 [============================>.] - ETA: 1s - loss: 7.6512 - acc: 0.0944Epoch 00001: loss did not improve\n",
      "50/50 [==============================] - 94s - loss: 7.6872 - acc: 0.0950    \n",
      "Epoch 3/50\n",
      "49/50 [============================>.] - ETA: 1s - loss: 7.6912 - acc: 0.1097Epoch 00002: loss did not improve\n",
      "50/50 [==============================] - 95s - loss: 7.7185 - acc: 0.1081    \n",
      "Epoch 4/50\n",
      "49/50 [============================>.] - ETA: 1s - loss: 7.8239 - acc: 0.1001Epoch 00003: loss did not improve\n",
      "50/50 [==============================] - 95s - loss: 7.8049 - acc: 0.1000    \n",
      "Epoch 5/50\n",
      "49/50 [============================>.] - ETA: 1s - loss: 6.9923 - acc: 0.1001Epoch 00004: loss did not improve\n",
      "50/50 [==============================] - 95s - loss: 6.9789 - acc: 0.1013    \n",
      "Epoch 6/50\n",
      "49/50 [============================>.] - ETA: 1s - loss: 7.3540 - acc: 0.0963Epoch 00005: loss did not improve\n",
      "50/50 [==============================] - 95s - loss: 7.3835 - acc: 0.0956    \n",
      "Epoch 7/50\n",
      "49/50 [============================>.] - ETA: 1s - loss: 7.3846 - acc: 0.0893Epoch 00006: loss did not improve\n",
      "50/50 [==============================] - 95s - loss: 7.3623 - acc: 0.0875    \n",
      "Epoch 8/50\n",
      "49/50 [============================>.] - ETA: 1s - loss: 7.7777 - acc: 0.0842Epoch 00007: loss did not improve\n",
      "50/50 [==============================] - 95s - loss: 7.7563 - acc: 0.0862    \n",
      "Epoch 9/50\n",
      "49/50 [============================>.] - ETA: 1s - loss: 7.9099 - acc: 0.0938Epoch 00008: loss did not improve\n",
      "50/50 [==============================] - 95s - loss: 7.9194 - acc: 0.0950    \n",
      "Epoch 10/50\n",
      "49/50 [============================>.] - ETA: 1s - loss: 7.6429 - acc: 0.1154Epoch 00009: loss did not improve\n",
      "50/50 [==============================] - 95s - loss: 7.6188 - acc: 0.1163    \n",
      "Epoch 11/50\n",
      "49/50 [============================>.] - ETA: 1s - loss: 7.5703 - acc: 0.0976Epoch 00010: loss did not improve\n",
      "50/50 [==============================] - 95s - loss: 7.5596 - acc: 0.0975    \n",
      "Epoch 12/50\n",
      "49/50 [============================>.] - ETA: 1s - loss: 7.6174 - acc: 0.1154Epoch 00011: loss did not improve\n",
      "50/50 [==============================] - 95s - loss: 7.6127 - acc: 0.1156    \n",
      "Epoch 13/50\n",
      "49/50 [============================>.] - ETA: 1s - loss: 8.0809 - acc: 0.1008Epoch 00012: loss did not improve\n",
      "50/50 [==============================] - 95s - loss: 8.0612 - acc: 0.0988    \n",
      "Epoch 14/50\n",
      "49/50 [============================>.] - ETA: 1s - loss: 7.5428 - acc: 0.1180Epoch 00013: loss did not improve\n",
      "50/50 [==============================] - 95s - loss: 7.5602 - acc: 0.1175    \n",
      "Epoch 15/50\n",
      "49/50 [============================>.] - ETA: 1s - loss: 7.8975 - acc: 0.0976Epoch 00014: loss did not improve\n",
      "50/50 [==============================] - 95s - loss: 7.9138 - acc: 0.0981    \n",
      "Epoch 16/50\n",
      "49/50 [============================>.] - ETA: 1s - loss: 7.8040 - acc: 0.1040Epoch 00015: loss did not improve\n",
      "50/50 [==============================] - 95s - loss: 7.7844 - acc: 0.1050    \n",
      "Epoch 17/50\n",
      "49/50 [============================>.] - ETA: 1s - loss: 7.5530 - acc: 0.1065Epoch 00016: loss did not improve\n",
      "50/50 [==============================] - 95s - loss: 7.5396 - acc: 0.1062    \n",
      "Epoch 18/50\n",
      "49/50 [============================>.] - ETA: 1s - loss: 7.7863 - acc: 0.1040Epoch 00017: loss did not improve\n",
      "50/50 [==============================] - 95s - loss: 7.7613 - acc: 0.1025    \n",
      "Epoch 19/50\n",
      "49/50 [============================>.] - ETA: 1s - loss: 7.9484 - acc: 0.1059Epoch 00018: loss did not improve\n",
      "50/50 [==============================] - 95s - loss: 7.9262 - acc: 0.1062    \n",
      "Epoch 20/50\n",
      "49/50 [============================>.] - ETA: 1s - loss: 8.4183 - acc: 0.0931Epoch 00019: loss did not improve\n",
      "50/50 [==============================] - 95s - loss: 8.4196 - acc: 0.0919    \n",
      "Epoch 21/50\n",
      "49/50 [============================>.] - ETA: 1s - loss: 8.0881 - acc: 0.0886Epoch 00020: loss did not improve\n",
      "50/50 [==============================] - 95s - loss: 8.0887 - acc: 0.0881    \n",
      "Epoch 22/50\n",
      "49/50 [============================>.] - ETA: 1s - loss: 8.2220 - acc: 0.1014Epoch 00021: loss did not improve\n",
      "50/50 [==============================] - 95s - loss: 8.2413 - acc: 0.1019    \n",
      "Epoch 23/50\n",
      "49/50 [============================>.] - ETA: 1s - loss: 8.3555 - acc: 0.1052Epoch 00022: loss did not improve\n",
      "50/50 [==============================] - 95s - loss: 8.3526 - acc: 0.1056    \n",
      "Epoch 24/50\n",
      "49/50 [============================>.] - ETA: 1s - loss: 8.6267 - acc: 0.1059Epoch 00023: loss did not improve\n",
      "50/50 [==============================] - 95s - loss: 8.5938 - acc: 0.1050    \n",
      "Epoch 25/50\n",
      "49/50 [============================>.] - ETA: 1s - loss: 8.1092 - acc: 0.1040Epoch 00024: loss did not improve\n",
      "50/50 [==============================] - 95s - loss: 8.1359 - acc: 0.1037    \n",
      "Epoch 26/50\n",
      "49/50 [============================>.] - ETA: 1s - loss: 8.3985 - acc: 0.1014Epoch 00025: loss did not improve\n",
      "50/50 [==============================] - 95s - loss: 8.3828 - acc: 0.1025    \n",
      "Epoch 27/50\n",
      "49/50 [============================>.] - ETA: 1s - loss: 8.0025 - acc: 0.0995Epoch 00026: loss did not improve\n",
      "50/50 [==============================] - 95s - loss: 8.0161 - acc: 0.1006    \n",
      "Epoch 28/50\n",
      "49/50 [============================>.] - ETA: 1s - loss: 8.3426 - acc: 0.1020Epoch 00027: loss did not improve\n",
      "50/50 [==============================] - 95s - loss: 8.3645 - acc: 0.1013    \n",
      "Epoch 29/50\n",
      "49/50 [============================>.] - ETA: 1s - loss: 8.7821 - acc: 0.0816Epoch 00028: loss did not improve\n",
      "50/50 [==============================] - 95s - loss: 8.7731 - acc: 0.0819    \n",
      "Epoch 30/50\n",
      "49/50 [============================>.] - ETA: 1s - loss: 8.5334 - acc: 0.1040Epoch 00029: loss did not improve\n",
      "50/50 [==============================] - 95s - loss: 8.5936 - acc: 0.1031    \n",
      "Epoch 31/50\n",
      "49/50 [============================>.] - ETA: 1s - loss: 8.4989 - acc: 0.0938Epoch 00030: loss did not improve\n",
      "50/50 [==============================] - 94s - loss: 8.4859 - acc: 0.0919    \n",
      "Epoch 32/50\n",
      "49/50 [============================>.] - ETA: 1s - loss: 8.5774 - acc: 0.1052Epoch 00031: loss did not improve\n",
      "50/50 [==============================] - 95s - loss: 8.5314 - acc: 0.1044    \n",
      "Epoch 33/50\n",
      "49/50 [============================>.] - ETA: 1s - loss: 8.4112 - acc: 0.0976Epoch 00032: loss did not improve\n",
      "50/50 [==============================] - 95s - loss: 8.3816 - acc: 0.1000    \n",
      "Epoch 34/50\n",
      "49/50 [============================>.] - ETA: 1s - loss: 8.4300 - acc: 0.1001Epoch 00033: loss did not improve\n",
      "50/50 [==============================] - 95s - loss: 8.4208 - acc: 0.1000    \n",
      "Epoch 35/50\n",
      "49/50 [============================>.] - ETA: 1s - loss: 8.2974 - acc: 0.0989Epoch 00034: loss did not improve\n",
      "50/50 [==============================] - 95s - loss: 8.3096 - acc: 0.0988    \n",
      "Epoch 36/50\n",
      "49/50 [============================>.] - ETA: 1s - loss: 8.5976 - acc: 0.0969Epoch 00035: loss did not improve\n",
      "50/50 [==============================] - 95s - loss: 8.6095 - acc: 0.0969    \n",
      "Epoch 37/50\n",
      "49/50 [============================>.] - ETA: 1s - loss: 8.4721 - acc: 0.1008Epoch 00036: loss did not improve\n",
      "50/50 [==============================] - 95s - loss: 8.4776 - acc: 0.1000    \n",
      "Epoch 38/50\n",
      "49/50 [============================>.] - ETA: 1s - loss: 8.3926 - acc: 0.0912Epoch 00037: loss did not improve\n",
      "50/50 [==============================] - 95s - loss: 8.4067 - acc: 0.0912    \n",
      "Epoch 39/50\n",
      "49/50 [============================>.] - ETA: 1s - loss: 8.2091 - acc: 0.0995Epoch 00038: loss did not improve\n",
      "50/50 [==============================] - 95s - loss: 8.2202 - acc: 0.0994    \n",
      "Epoch 40/50\n",
      "49/50 [============================>.] - ETA: 1s - loss: 8.4476 - acc: 0.1142Epoch 00039: loss did not improve\n",
      "50/50 [==============================] - 94s - loss: 8.4549 - acc: 0.1119    \n",
      "Epoch 41/50\n",
      "49/50 [============================>.] - ETA: 1s - loss: 8.4950 - acc: 0.0976Epoch 00040: loss did not improve\n",
      "50/50 [==============================] - 94s - loss: 8.4823 - acc: 0.0963    \n",
      "Epoch 42/50\n",
      "49/50 [============================>.] - ETA: 1s - loss: 8.6084 - acc: 0.0944Epoch 00041: loss did not improve\n",
      "50/50 [==============================] - 95s - loss: 8.5867 - acc: 0.0956    \n",
      "Epoch 43/50\n",
      "49/50 [============================>.] - ETA: 1s - loss: 8.2733 - acc: 0.1167Epoch 00042: loss did not improve\n",
      "50/50 [==============================] - 94s - loss: 8.2397 - acc: 0.1163    \n",
      "Epoch 44/50\n",
      "49/50 [============================>.] - ETA: 1s - loss: 8.7187 - acc: 0.0995Epoch 00043: loss did not improve\n",
      "50/50 [==============================] - 95s - loss: 8.7031 - acc: 0.1000    \n",
      "Epoch 45/50\n",
      "49/50 [============================>.] - ETA: 1s - loss: 8.4416 - acc: 0.0855Epoch 00044: loss did not improve\n",
      "50/50 [==============================] - 95s - loss: 8.4070 - acc: 0.0862    \n",
      "Epoch 46/50\n",
      "49/50 [============================>.] - ETA: 1s - loss: 8.2128 - acc: 0.1167Epoch 00045: loss did not improve\n",
      "50/50 [==============================] - 94s - loss: 8.2582 - acc: 0.1150    \n",
      "Epoch 47/50\n",
      "49/50 [============================>.] - ETA: 1s - loss: 8.3295 - acc: 0.0995Epoch 00046: loss did not improve\n",
      "50/50 [==============================] - 95s - loss: 8.2988 - acc: 0.1006    \n",
      "Epoch 48/50\n",
      "49/50 [============================>.] - ETA: 1s - loss: 8.5104 - acc: 0.1008Epoch 00047: loss did not improve\n",
      "50/50 [==============================] - 94s - loss: 8.5360 - acc: 0.0994    \n",
      "Epoch 49/50\n",
      "49/50 [============================>.] - ETA: 1s - loss: 8.1723 - acc: 0.1116Epoch 00048: loss did not improve\n",
      "50/50 [==============================] - 95s - loss: 8.1767 - acc: 0.1119    \n",
      "Epoch 50/50\n",
      "49/50 [============================>.] - ETA: 1s - loss: 8.6160 - acc: 0.0995Epoch 00049: loss did not improve\n",
      "50/50 [==============================] - 95s - loss: 8.5882 - acc: 0.1013    \n"
     ]
    }
   ],
   "source": [
    "file_name = 'weights-improvement-{epoch:02d}.hdf5'\n",
    "checkpoint = ModelCheckpoint(file_name, monitor='loss', verbose=1, save_best_only=True, mode='min')\n",
    "callbacks_list = [checkpoint]\n",
    "model.fit_generator(generator.generate(batch_size=32), steps_per_epoch=50, epochs=50, verbose=1, callbacks=callbacks_list)\n",
    "try:\n",
    "    model.save('Models/WholeModel.h5', overwrite=True)\n",
    "    model.save_weights('Models/Weights.h5',overwrite=True)\n",
    "except:\n",
    "    print \"Error in saving model.\""
   ]
  },
  {
   "cell_type": "code",
   "execution_count": null,
   "metadata": {
    "collapsed": true
   },
   "outputs": [],
   "source": []
  }
 ],
 "metadata": {
  "kernelspec": {
   "display_name": "Python 2",
   "language": "python",
   "name": "python2"
  },
  "language_info": {
   "codemirror_mode": {
    "name": "ipython",
    "version": 2
   },
   "file_extension": ".py",
   "mimetype": "text/x-python",
   "name": "python",
   "nbconvert_exporter": "python",
   "pygments_lexer": "ipython2",
   "version": "2.7.12"
  }
 },
 "nbformat": 4,
 "nbformat_minor": 2
}
